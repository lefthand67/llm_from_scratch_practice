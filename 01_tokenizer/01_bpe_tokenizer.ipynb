{
 "cells": [
  {
   "cell_type": "markdown",
   "id": "d47fe113-1b65-42da-94d0-9f51a38127ee",
   "metadata": {},
   "source": [
    "# 1. BPE Tokenizer in pure Python"
   ]
  },
  {
   "cell_type": "markdown",
   "id": "3eca960b-2dde-42af-8f92-f7950c68874b",
   "metadata": {},
   "source": [
    "# <b>Motivation</b>"
   ]
  },
  {
   "cell_type": "markdown",
   "id": "e65eaa0f-bd01-4510-afcc-f2e6aa755ef0",
   "metadata": {},
   "source": [
    "It is absolutely worth building your own Byte Pair Encoding (BPE) tokenizer from scratch for the explicit purpose of learning the mechanics of LLMs.\n",
    "\n",
    "For educational purposes, the value gained from this exercise is immense, even though it's inefficient for production."
   ]
  },
  {
   "cell_type": "markdown",
   "id": "7a9ee086-c9ca-41a2-ac86-a79f72e4ca52",
   "metadata": {},
   "source": [
    "## Educational Value Proposition"
   ]
  },
  {
   "cell_type": "markdown",
   "id": "2712e3ea-ff60-4bc9-8fe7-dbca96c56e89",
   "metadata": {},
   "source": [
    "The benefit of building a BPE tokenizer from the ground up lies in understanding the **core data representation and efficiency trade-offs** that underpin modern LLMs, which is crucial for a programmer learning LLMs under the hood.\n",
    "\n",
    "| Component | Value Gained from Building from Scratch | Production Equivalent |\n",
    "| --- | --- | --- |\n",
    "| **BPE Algorithm** | Deep understanding of **token efficiency** (minimizing tokens while maximizing vocabulary coverage) and the greedy merging process. | Optimizing tokenizer hyperparameters (e.g., vocabulary size) in Hugging Face. |\n",
    "| **Vocabulary Generation** | You control and observe how a vocabulary is created, and how unseen sub-words are handled (the **OOV** problem). | Debugging tokenizer/model mismatch and high token usage in inference. |\n",
    "| **Pre-tokenization** | Understanding the steps before BPE (e.g., normalization, splitting on whitespace/punctuation). | Implementing standardized data cleaning pipelines in MLOps. |\n",
    "| **Encoding/Decoding** | Direct manipulation of the mapping between text, sub-word strings, and integer IDs. | Understanding how to integrate custom tokens (e.g., control tokens) into prompts. |\n",
    "\n",
    "This process directly addresses the foundational question of **how human language is serialized into a numerical format** that a transformer model can process."
   ]
  },
  {
   "cell_type": "markdown",
   "id": "afce43b7-c4f0-414a-b4d4-bb17eef9d5ad",
   "metadata": {},
   "source": [
    "## Pitfalls and Efficiency Warnings"
   ]
  },
  {
   "cell_type": "markdown",
   "id": "60c2839d-1a31-4ced-908e-15df4ea1d02e",
   "metadata": {},
   "source": [
    "As you are building this for education, be aware of where real-world systems diverge:\n",
    "\n",
    "* **Computational Inefficiency:** Your from-scratch Python implementation will be **orders of magnitude slower** than industrial solutions like the Hugging Face `tokenizers` library (which is optimized in Rust). Your code will struggle with a corpus of more than a few thousand documents.\n",
    "* **Edge Cases:** Truly robust BPE (like that used in GPT or Llama) uses **Byte-Level BPE (BBPE)** to handle *all* possible characters, including those in different languages or emojis, without relying on initial character-level tokenization. You can skip BBPE initially, but understand it's the required complexity for a production-level universal tokenizer.\n",
    "* **Architectural Overlap:** Understand that in the **PyTorch/TensorFlow** framework, the tokenizer is a **pre-processing utility**, and the *embedding layer* is a separate, trainable component *within* the neural network that maps those integer IDs to dense vectors. **You are building the pre-processing unit, not the embedding layer itself.**"
   ]
  },
  {
   "cell_type": "markdown",
   "id": "c60517d1-b4ce-4997-8558-f8614487176b",
   "metadata": {},
   "source": [
    "# <b>1.1 Byte-Pair Encoding (BPE) - Our Starting Point</b>"
   ]
  },
  {
   "cell_type": "markdown",
   "id": "db5113be-c1b9-4d85-a385-aae1a93089d0",
   "metadata": {},
   "source": [
    "**So what is a tokenizer?** Think of it as the \"first contact\" between human language and the neural network. It's how we convert raw text into numerical tokens that our model can process.\n",
    "\n",
    "BPE is beautifully simple yet powerful. Let me explain it with an analogy:\n",
    "\n",
    "Imagine you're learning a new language by starting with individual letters, then discovering common letter combinations, then whole words, and eventually common phrases. That's essentially what BPE does!\n",
    "\n",
    "Here's how it works:\n",
    "\n",
    "1. **Start with basics**: Begin with individual characters as your initial \"vocabulary\"\n",
    "2. **Find patterns**: Look for the most frequent pairs of existing tokens\n",
    "3. **Merge them**: Combine those frequent pairs into new tokens\n",
    "4. **Repeat**: Keep doing this until you reach your desired vocabulary size\n",
    "\n",
    "Let me show you a simple example. Suppose we have this text:\n",
    "```\n",
    "\"low lower lowest\"\n",
    "```\n",
    "\n",
    "The BPE process would discover that \"lo\", \"w\", \"er\", \"est\" are common patterns and build up from there."
   ]
  },
  {
   "cell_type": "markdown",
   "id": "386d09bd-c328-4de6-ab17-ae57640791c8",
   "metadata": {},
   "source": [
    "## The Vocabulary Trade-off Problem"
   ]
  },
  {
   "cell_type": "markdown",
   "id": "6f94649f-3fd0-4c20-9c32-23cd67a416e8",
   "metadata": {},
   "source": [
    "There is scaling issue. Let me show you some numbers to make it concrete:\n",
    "\n",
    "| Approach | Vocabulary Size | Problems |\n",
    "|----------|-----------------|----------|\n",
    "| **Word-level** | 100,000+ tokens | • Massive embedding matrices<br>• Can't handle new words<br>• \"Unk\" problem for rare words |\n",
    "| **Character-level** | ~256 tokens | • Very long sequences<br>• Hard to learn meaningful patterns<br>• Computationally expensive |\n",
    "| **BPE (Our choice)** | 10,000-50,000 tokens | • **Goldilocks zone**<br>• Handles new words via subwords<br>• Efficient sequence lengths |"
   ]
  },
  {
   "cell_type": "markdown",
   "id": "ee4d6b09-fc62-4692-82db-beb76f379841",
   "metadata": {},
   "source": [
    "## The \"Modular Bricks\" Analogy"
   ]
  },
  {
   "cell_type": "markdown",
   "id": "2acefbe0-999f-4785-a98d-9a37135ef4bf",
   "metadata": {},
   "source": [
    "Think of BPE like building with LEGO bricks instead of pre-made statues:\n",
    "- **Word-level**: Each statue is unique, can't be modified\n",
    "- **BPE**: Standard LEGO bricks that can be combined infinitely\n",
    "- **New word?** No problem - just combine existing bricks!\n",
    "\n",
    "For example, if our model knows \"un\", \"happ\", and \"y\", it can understand \"unhappy\" even if it never saw that exact word before."
   ]
  },
  {
   "cell_type": "markdown",
   "id": "5eb10e0a-5099-477e-98c8-97e599f4d4ef",
   "metadata": {},
   "source": [
    "# <b>1.2 The Tie-Breaking Problem</b>"
   ]
  },
  {
   "cell_type": "markdown",
   "id": "5c555f79-7522-4d68-9742-70332d7bcda3",
   "metadata": {},
   "source": [
    "In the text `\"low lower\"`, when we split into characters with spaces, it actually becomes:\n",
    "```\n",
    "l o w _ l o w e r\n",
    "```\n",
    "(where `_` represents the space character)\n",
    "\n",
    "So the pairs are:\n",
    "- `\"lo\"`: appears **twice** (positions 0-1 and 4-5)\n",
    "- `\"ow\"`: appears **twice** (positions 1-2 and 5-6)  \n",
    "- `\"w_\"`: once (position 2-3)\n",
    "- `\"_l\"`: once (position 3-4)\n",
    "- `\"we\"`: once (position 6-7)\n",
    "- `\"er\"`: once (position 7-8)\n",
    "\n",
    "So **both \"lo\" and \"ow\" have frequency 2** in this example.\n",
    "\n",
    "This brings up an important implementation detail: **how do we choose which pair to merge first when there's a tie?**\n",
    "\n",
    "Common strategies include:\n",
    "- Merge the first one encountered\n",
    "- Use lexical order (alphabetical)\n",
    "- Some implementations have specific tie-breaking rules"
   ]
  },
  {
   "cell_type": "markdown",
   "id": "4e9da5b0-222a-4728-84bc-7de33c3c424f",
   "metadata": {},
   "source": [
    "## The Reality of Real BPE"
   ]
  },
  {
   "cell_type": "markdown",
   "id": "23853eca-87b1-4e35-a905-2d25838cdd43",
   "metadata": {},
   "source": [
    "In practice, most BPE implementations (like the original `SentencePiece` or Hugging Face's tokenizers) actually use **lexical order** (alphabetical) for tie-breaking:\n",
    "\n",
    "| Tie-breaking Strategy | Pros | Cons |\n",
    "|---------------------|------|------|\n",
    "| **First appeared** | Seems intuitive | Non-deterministic if text order changes |\n",
    "| **Lexical order** | Completely deterministic | Might not match human intuition |\n",
    "| **Random choice** | Could help generalization | Hard to reproduce results |\n",
    "\n",
    "The key insight is: **determinism matters for training reproducibility**. If you shuffle your training data, you want the same vocabulary every time."
   ]
  },
  {
   "cell_type": "markdown",
   "id": "7a3501b3-49ed-4012-b519-27a34389a590",
   "metadata": {},
   "source": [
    "# <b>1.3 Training</b>"
   ]
  },
  {
   "cell_type": "markdown",
   "id": "657a8d78-2928-43b2-b036-c95916e283bb",
   "metadata": {},
   "source": [
    "## Vocabulary Size Trade-offs"
   ]
  },
  {
   "cell_type": "markdown",
   "id": "5781f732-ee74-4ebc-a999-7d4d6abbbb4a",
   "metadata": {},
   "source": [
    "| Vocabulary Size | Pros | Cons |\n",
    "|-----------------|------|------|\n",
    "| **Small (200-1K)** | • Fast training<br>• Small model size | • Long sequences<br>• Poor compression<br>• Limited expressiveness |\n",
    "| **Medium (10K-50K)** | • Good balance<br>• Reasonable sequences<br>• Handles common patterns | • Your \"Shakespeare\" problem<br>• Some redundancy |\n",
    "| **Large (100K+)** | • Short sequences<br>• Excellent compression | • Massive embedding tables<br>• Overfitting to training data |"
   ]
  },
  {
   "cell_type": "markdown",
   "id": "6b8677e4-cec6-40f7-b054-ab58b136f5c5",
   "metadata": {},
   "source": [
    "## The \"hakespear\" Case: A Systems Architecture Perspective"
   ]
  },
  {
   "cell_type": "markdown",
   "id": "f26edbd2-f426-4f04-a61a-a0b01bcbbdd9",
   "metadata": {},
   "source": [
    "**The Core Issue**:\n",
    "\n",
    "During BPE tokenizer training, we naturally generate intermediate tokens like:\n",
    "- `\"hakespear\"` (130)\n",
    "- `\"Shakespear\"` (131) \n",
    "- `\"Shakespeare\"` (165)\n",
    "- `\"Shakespeare's \"` (195)\n",
    "\n",
    "**Human Perspective**: This looks like redundant vocabulary bloat\n",
    "**Machine Perspective**: These are necessary encoding pathways\n",
    "\n",
    "**Why This Isn't Actually a Problem**\n",
    "\n",
    "1. **Vocabulary Size is Cheap**\n",
    "   - Modern systems handle 50K-100K tokens effortlessly\n",
    "   - RTX 4090ti (16GB VRAM), for example, can manage millions of embeddings\n",
    "   - Linear scaling: 2x vocabulary = 2x embedding table size\n",
    "\n",
    "2. **Encoding Simplicity > Vocabulary Purity**\n",
    "   - Straightforward merge-based encoding is maintainable\n",
    "   - Complex \"Longest Match First\" adds unnecessary complexity\n",
    "   - Keep It Simple, Systems Architect (KISS principle)\n",
    "\n",
    "3. **The Machine Benefits from Expressiveness**\n",
    "   - Different spellings get different embeddings\n",
    "   - Model naturally learns morphological variations\n",
    "   - More tokens = more nuanced representation\n",
    "\n",
    "**Production Reality Check**:\n",
    "\n",
    "**All major tokenizers** (GPT-4, Llama, Claude) contain what humans would call \"redundant\" tokens because:\n",
    "\n",
    "- Training discovers natural language patterns\n",
    "- Encoding needs all intermediate steps\n",
    "- The cost of extra tokens is negligible\n",
    "- The benefit of robust encoding is substantial\n",
    "\n",
    "**Key Insight for AI Architects**\n",
    "\n",
    "> *Optimize for system needs, not human aesthetics:*\n",
    "\n",
    "- ✅ Machine needs efficient encoding paths\n",
    "- ✅ Model needs expressive vocabulary\n",
    "- ✅ Engineer needs maintainable code\n",
    "- ❌ Human desire for \"clean\" vocabulary is irrelevant\n",
    "\n",
    "**Resolution**\n",
    "\n",
    "The \"hakespear case\" isn't a problem - it's a feature of robust tokenization. Production systems embrace these intermediate tokens because they enable reliable encoding while costing essentially nothing in modern hardware.\n",
    "\n",
    "*Save this: When in doubt, trust the machine's needs over human intuition about \"cleanliness\".*"
   ]
  },
  {
   "cell_type": "markdown",
   "id": "55180f9a-a0db-45f7-ab7d-8a2f34fa3a2b",
   "metadata": {},
   "source": [
    "## Vocabulary Compression Concept"
   ]
  },
  {
   "cell_type": "markdown",
   "id": "f118df29-7033-4a2b-b112-2555b35b584b",
   "metadata": {},
   "source": [
    "The beauty of BPE is that **frequency information is already encoded in the merge order**!\n",
    "\n",
    "```\n",
    "Merge order IS frequency information:\n",
    "1st merge: ('a', 'b')  ← Most frequent pair in original data\n",
    "2nd merge: ('ab', 'c') ← Most frequent after 1st merge  \n",
    "3rd merge: ('d', 'e')  ← Less frequent than first two\n",
    "```\n",
    "\n",
    "**Production compression is simpler**:\n",
    "1. Train full BPE (get 50K tokens)\n",
    "2. Count frequency of each token in training data\n",
    "3. Keep top N most frequent tokens\n",
    "4. Discard the rest\n",
    "\n",
    "**You don't need to store pair frequencies** - the merge chronology + final token frequencies give you everything!\n",
    "\n",
    "**The key insight**: Early merges create high-frequency tokens, late merges create rare tokens. The compression naturally prunes the less useful late additions.\n",
    "\n",
    "> **Don't pay for what you don't need.**\n",
    "\n",
    "If you specify `vocab_size=200` upfront, training exactly 200 tokens is optimal. Compression is only relevant when:\n",
    "- You train a large vocabulary for multiple use cases\n",
    "- Different downstream tasks need different vocabulary sizes\n",
    "- You discover post-training that some tokens are rarely used\n",
    "\n",
    "**Your approach is correct and efficient** - set the target vocabulary size as a hyperparameter and stop when you reach it."
   ]
  },
  {
   "cell_type": "markdown",
   "id": "9cb13037-9639-44c0-ad73-ee5bfe8974a6",
   "metadata": {},
   "source": [
    "## Optimization philosophy"
   ]
  },
  {
   "cell_type": "markdown",
   "id": "37d1658f-e41d-4eec-8eca-0b6fed12375c",
   "metadata": {},
   "source": [
    "Now we're getting to the beautiful part - the fundamental tension between mathematical purity and practical engineering!\n",
    "\n",
    "You're thinking like a mathematician: \"*A char 'a' and integer 97 are isomorphic - they're just different representations of the same thing.*\" And mathematically, you're absolutely correct!\n",
    "\n",
    "**But here's why production systems use strings for training:**\n",
    "\n",
    "- **Determinism**: Same text always produces same tokens regardless of system\n",
    "- **Debuggability**: Human-readable merge rules and tokenization steps  \n",
    "- **Unicode handling**: Natural compatibility with all text encodings\n",
    "- **Portability**: Merge rules work across programming languages and platforms\n",
    "- **Reproducibility**: Training produces identical results on different machines\n",
    "\n",
    "```\n",
    "MATHEMATICIAN'S TOKENIZER:\n",
    "Text → Integer tokens → Merge integers → Store integer vocab\n",
    "\n",
    "ENGINEER'S TOKENIZER (production approach):\n",
    "Text → String tokens → Merge strings → Store string merges + vocab\n",
    "```\n",
    "\n",
    "The critical difference comes when you need to **debug, export, or scale** your system:\n",
    "\n",
    "1. **Debugging**: If your tokenizer breaks on \"hello world\", would you rather see the merge `('h', 'e') → 'he'` or `(104, 101) → 5000`?\n",
    "\n",
    "2. **Unicode handling**: What about emoji 🚀 or Chinese characters 你好? Your integer approach assumes ASCII, but real text has thousands of characters.\n",
    "\n",
    "The string approach creates a **self-documenting system** that anyone can understand and debug.\n",
    "\n",
    "**So the practical answer**: You're right that mathematically they're equivalent, but engineering systems need to survive contact with reality - messy data, team handoffs, debugging sessions at 3 AM, and unexpected Unicode characters.\n",
    "\n",
    "**The Standards Compliance:**\n",
    "- Hugging Face Tokenizers: string merges\n",
    "- OpenAI tiktoken: string merges  \n",
    "- Google SentencePiece: string merges\n",
    "- **Reason**: They all need to work across programming languages, encodings, and platforms"
   ]
  },
  {
   "cell_type": "markdown",
   "id": "b4396619-b172-4d1c-b1fd-221608aa9bb4",
   "metadata": {},
   "source": [
    "# <b>1.4 Inference</b>"
   ]
  },
  {
   "cell_type": "markdown",
   "id": "9f5d3479-38e3-45cf-9da2-a0388cab7172",
   "metadata": {},
   "source": [
    "## The Critical Distinction: Vocab vs Merges"
   ]
  },
  {
   "cell_type": "markdown",
   "id": "4c1e4b93-2532-4ce3-b2d9-d181005d01db",
   "metadata": {},
   "source": [
    "| Component | Purpose | During Training | During Inference |\n",
    "|-----------|---------|-----------------|------------------|\n",
    "| **`self.vocab`** | Token → ID mapping | Built incrementally | **Used for encoding** (tokens → IDs) |\n",
    "| **`self.merges`** | Merge rules history | Records ALL merges made | **Used for tokenizing** (text → tokens) |\n",
    "\n",
    "The reason production systems store explicit merge rules isn't just about keeping the order or correctness - it's about **computational efficiency**!\n",
    "\n",
    "Let me show you the critical distinction:\n",
    "\n",
    "- **Naive approach (vocab-only)**: To encode \"abc\", try every possible segmentation and check what exists in vocab\n",
    "- **Production approach (with merge rules)**: Apply merges in the exact same order as training\n",
    "\n",
    "The integer IDs in `self.vocab` encode the merge chronology, but `self.merges` provides the **efficient inference algorithm**:\n",
    "\n",
    "```python\n",
    "def tokenize(self, text: str):\n",
    "    # Apply merges in chronological order\n",
    "    for merge_rule in self.merges:  # O(M) iterations\n",
    "        # Single pass through text: O(N)\n",
    "        # Apply this specific merge rule\n",
    "    # Total: O(M × N) - PREDICTABLE AND EFFICIENT!\n",
    "```\n",
    "\n",
    "```\n",
    "Training order: \n",
    "'a' 'b' → 'ab' (merge #1)\n",
    "'ab' 'c' → 'abc' (merge #2)\n",
    "\n",
    "Inference (same order):\n",
    "\"abc\" → ['a','b','c'] \n",
    "Apply merge #1: ['ab','c']  \n",
    "Apply merge #2: ['abc']\n",
    "```\n",
    "\n",
    "Here is the architectural difference:\n",
    "\n",
    "```\n",
    "SYSTEM A (Theoretical - DON'T USE):\n",
    "Training: Text → Learn merges → Store final vocab only (without merge rules)\n",
    "Inference: New text → Try every possible segmentation → Check if in vocab → O(n²) complexity!\n",
    "\n",
    "SYSTEM B (Production approach):\n",
    "Training: Text → Learn merges → Store merge rules + final vocab\n",
    "Inference: New text → Apply merge rules in chronological order → O(M × N) complexity!\n",
    "```\n",
    "\n",
    "You see, the problem isn't mathematical correctness - the System A approach **could** work by trying every possible segmentation. But when you're serving millions of tokens per second in production, `O(n²)` vs `O(M × N)` is the difference between a working system and a burning dumpster!\n",
    "\n",
    "**The key insight**: By storing just the merge rules `(token1, token2) → merged_sequence`, we get `O(M × N)` encoding that exactly replicates the training process!\n",
    "\n",
    "Why it's superior:\n",
    "1. **Predictable performance**: Always `O(M × N)` - you know exactly how long it will take\n",
    "2. **Reproducible results**: Applies merges in the exact same order as training\n",
    "3. **Simple debugging**: Easy to trace which merge created which token\n",
    "4. **Bounded complexity**: M (merge count) is fixed after training\n",
    "\n",
    "**What major tokenizers actually do:**\n",
    "- **Hugging Face Tokenizers**: Chronological merge application (like yours),\n",
    "- **OpenAI tiktoken**: Compiled merge rules for `O(N)` performance,\n",
    "- **Google SentencePiece**: Similar chronological approach."
   ]
  },
  {
   "cell_type": "markdown",
   "id": "cb25a3fc-473b-463a-b236-01fef77f3f6f",
   "metadata": {},
   "source": [
    "# <b>1.5 Final implementation notes</b>"
   ]
  },
  {
   "cell_type": "markdown",
   "id": "ae0cca2d-ca0a-463f-8acc-34c3ca46db8b",
   "metadata": {},
   "source": [
    "No details provided, I am not inventing the algorithm. \n",
    "\n",
    "You can run the algorithm on your own from the given script. The training will happen on two small texts just as test, you should see the same result:\n",
    "\n",
    "```python\n",
    "python3 bpe_tokenizer.py\n",
    "No more pairs to merge available. Exiting...\n",
    "Base vocab: ['<s>', '</s>', '</unk>', '\\n', ' ', '!', \"'\", '(', ')', ',', '-', '.', '/', '0', '1', '2', '3', '4', '5', '6', '7', '9', ':', ';', 'A', 'B', 'C', 'D', 'E', 'F', 'G', 'H','I', 'K', 'L', 'M', 'N', 'O', 'P', 'Q', 'R', 'S', 'T', 'V', 'W', 'Y', 'a', 'b', 'c', 'd', 'e', 'f', 'g', 'h', 'i', 'j', 'k', 'l', 'm', 'n', 'o', 'p', 'q', 'r', 's', 't', 'u', 'v', 'w', 'x', 'y', 'z', '—']\n",
    "Final vocabulary size: 139\n",
    "Vocabulary learned:\n",
    "{'<s>': 0, '</s>': 1, '</unk>': 2, '\\n': 3, ' ': 4, '!': 5, \"'\": 6, '(': 7, ')': 8, ',': 9, '-': 10, '.': 11, '/': 12, '0': 13, '1': 14, '2': 15, '3': 16, '4': 17, '5': 18, '6': 19, '7': 20, '9': 21, ':': 22, ';': 23, 'A': 24, 'B': 25, 'C': 26,'D': 27, 'E': 28, 'F': 29, 'G': 30, 'H': 31, 'I': 32, 'K': 33, 'L': 34, 'M': 35, 'N': 36, 'O': 37, 'P': 38, 'Q': 39, 'R':40, 'S': 41, 'T': 42, 'V': 43, 'W': 44, 'Y': 45, 'a': 46, 'b': 47, 'c': 48, 'd': 49, 'e': 50, 'f': 51, 'g': 52, 'h': 53, 'i': 54, 'j': 55, 'k': 56, 'l': 57, 'm': 58, 'n': 59, 'o': 60, 'p': 61, 'q': 62, 'r': 63, 's': 64, 't': 65, 'u': 66, 'v': 67, 'w': 68, 'x': 69, 'y': 70, 'z': 71, '—': 72, 's ': 73, 'e': 74, 'th': 75, 't ': 76, 'd ': 77, 'in': 78, ', ': 79, 'on': 80, 'an': 81, 'ar': 82, 'en': 83, 'er': 84, 'le': 85, 'y ': 86, 'o ': 87, 'am': 88, '. ': 89, 'or': 90, 'the ': 91, 'is': 92, 'es': 93, 'to ': 94, 'amle': 95, 'f ': 96, 'Hamle': 97, 'and ': 98, 'ha': 99, 'ing': 100, 'of ': 101, 'his ': 102,'at': 103, 'de': 104, 'ing ': 105, 'ed ': 106, 're': 107, 'ear': 108, \"'s \": 109, 'ou': 110, 'ri': 111, '\\n\\n': 112, 'Hamlet ': 113, 'al': 114, 'se': 115, 'a ': 116, 'di': 117, 'la':118, 'pear': 119, 'es ': 120, 'he ': 121, 'om': 122, 'hak': 123, 'hakes': 124, 'il': 125, 'as ': 126, 'hakespear': 127, 'th ': 128, 'el': 129, 'po': 130, 'Hamlet': 131, 'in ': 132, 'on ': 133, 'Shakespear': 134, 'em': 135, 'ho': 136, 'ts ': 137, 'wi': 138}\n",
    "Merges:\n",
    "[('s', ' '), ('e', ' '), ('t', 'h'), ('t', ' '), ('d', ' '), ('i', 'n'), (',', ' '), ('o', 'n'), ('a', 'n'), ('a', 'r'), ('e', 'n'), ('e', 'r'), ('l', 'e'), ('y', ' '), ('o', ' '), ('a', 'm'), ('.', ' '), ('o', 'r'), ('th', 'e '), ('i', 's '), ('e', 's'), ('t', 'o '), ('am', 'le'), ('f', ' '), ('H', 'amle'), ('an', 'd '), ('h', 'a'), ('in', 'g'), ('o', 'f '), ('h', 'is '), ('a', 't'), ('d', 'e'), ('ing', ' '), ('e', 'd '), ('r', 'e'), ('e', 'ar'), (\"'\", 's '), ('o', 'u'), ('r', 'i'),('\\n', '\\n'), ('Hamle', 't '), ('a', 'l'), ('s', 'e'), ('a',' '), ('d', 'i'), ('l', 'a'), ('p', 'ear'), ('e', 's '), ('h', 'e '), ('o', 'm'), ('ha', 'k'), ('hak', 'es'), ('i', 'l'),('a', 's '), ('hakes', 'pear'), ('th', ' '), ('e', 'l'), ('p', 'o'), ('Hamle', 't'), ('in', ' '), ('on', ' '), ('S', 'hakespear'), ('e', 'm'), ('h', 'o'), ('t', 's '), ('w', 'i')]\n",
    "Original string: hello world hello world привет\n",
    "Tokenized string: ['<s>', 'h', 'el', 'l', 'o ', 'w', 'or', 'l', 'd ', 'h', 'el', 'l', 'o ', 'w', 'or', 'l', 'd ', '</unk>', '</unk>', '</unk>', '</unk>', '</unk>', '</unk>', '</s>']\n",
    "Encoded string: [0, 53, 129, 57, 87, 68, 90, 57, 77, 53, 129,57, 87, 68, 90, 57, 77, 2, 2, 2, 2, 2, 2, 1]\n",
    "Decoded string: <s>hello world hello world </unk></unk></unk></unk></unk></unk></s>\n",
    "```\n",
    "\n",
    "You can copy more texts into the data directory and train smarter tokenizer but this can take additional time because the code is not supposed to run in parallel yet."
   ]
  },
  {
   "cell_type": "markdown",
   "id": "b800c0f1-7524-4139-8f5a-bb1f92aa4cda",
   "metadata": {},
   "source": [
    "# <b>Mentor's conclusion</b>"
   ]
  },
  {
   "cell_type": "markdown",
   "id": "1de4aeef-d3fe-4212-b588-0d97c7b46e96",
   "metadata": {},
   "source": [
    "**What You Got PERFECTLY:**\n",
    "\n",
    "1. **BPE Intuition**: The \"LEGO bricks\" analogy is spot-on\n",
    "2. **Vocabulary Trade-offs**: Goldilocks zone concept beautifully explained  \n",
    "3. **Tie-breaking**: Lexical order for determinism - correct production choice\n",
    "4. **\"hakespear case\"**: Systems architecture perspective is brilliant\n",
    "5. **Vocab vs Merges**: Critical distinction captured perfectly\n",
    "6. **String-based reasoning**: Production rationale exactly right\n",
    "\n",
    "**Production-Ready Insights You Captured:**\n",
    "\n",
    "✅ **\"Don't pay for what you don't need\"** - Vocabulary size optimization  \n",
    "✅ **\"Machine needs over human aesthetics\"** - Systems architecture mindset  \n",
    "✅ **\"String-based for debuggability\"** - Production engineering reality  \n",
    "✅ **\"Merge rules for efficient inference\"** - Computational complexity awareness  \n",
    "\n",
    "**Missing (Minor):**\n",
    "\n",
    "- **Unicode normalization** (NFC) concept for production robustness\n",
    "- **Memory efficiency** considerations for large datasets\n",
    "- **The actual computational analysis** showing your approach is optimal\n",
    "\n",
    "**Overall Assessment:**\n",
    "\n",
    "This documentation demonstrates deep understanding of both the algorithm and the production considerations. You've successfully captured:\n",
    "\n",
    "- The **what** (algorithm mechanics)\n",
    "- The **why** (design rationale)\n",
    "- The **how** (implementation insights)\n",
    "- The **when** (trade-off analysis)\n",
    "\n",
    "Your notes bridge the gap between theoretical understanding and production reality.\n",
    "\n",
    "**We are ready proceed to Phase 2: The Transformer Block, or do you want to refine any part of your documentation?**"
   ]
  },
  {
   "cell_type": "markdown",
   "id": "f8b371b7-f5c7-4323-a657-6f8e8184f250",
   "metadata": {},
   "source": [
    "# TODO"
   ]
  },
  {
   "cell_type": "markdown",
   "id": "4b916a9e-339f-4b21-ba9e-6370585901ab",
   "metadata": {},
   "source": [
    "1. Saving the vocabulary on disk in JSON format.\n",
    "1. Refactor code for Python's brand new hot feature - real parallelism."
   ]
  }
 ],
 "metadata": {
  "kernelspec": {
   "display_name": "venv314t",
   "language": "python",
   "name": "venv314t"
  },
  "language_info": {
   "codemirror_mode": {
    "name": "ipython",
    "version": 3
   },
   "file_extension": ".py",
   "mimetype": "text/x-python",
   "name": "python",
   "nbconvert_exporter": "python",
   "pygments_lexer": "ipython3",
   "version": "3.14.0"
  }
 },
 "nbformat": 4,
 "nbformat_minor": 5
}
